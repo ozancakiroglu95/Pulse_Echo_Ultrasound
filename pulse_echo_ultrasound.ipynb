{
 "cells": [
  {
   "cell_type": "code",
   "execution_count": 1,
   "id": "4c4df8c3",
   "metadata": {},
   "outputs": [
    {
     "name": "stdout",
     "output_type": "stream",
     "text": [
      "discrete frequency indexes\n",
      "0\n",
      "1\n",
      "2\n",
      "3\n",
      "4\n",
      "5\n",
      "6\n",
      "7\n",
      "8\n",
      "9\n",
      "10\n",
      "11\n",
      "12\n",
      "13\n",
      "14\n",
      "15\n",
      "16\n",
      "17\n",
      "18\n",
      "19\n",
      "20\n",
      "21\n",
      "22\n",
      "23\n",
      "24\n",
      "25\n",
      "26\n",
      "27\n",
      "28\n",
      "29\n"
     ]
    }
   ],
   "source": [
    "import numpy as np\n",
    "from scipy import special\n",
    "\n",
    "# create grid points inside field of view\n",
    "N_x = 64\n",
    "N_z = 64\n",
    "\n",
    "x_0 = 20*10**-3\n",
    "z_0 = 20*10**-3\n",
    "r_0 = np.array([[x_0],[z_0]])\n",
    "\n",
    "delta_x = 14*10**-3\n",
    "delta_z = 7*10**-3\n",
    "\n",
    "e_x = np.array([[1],[0]])\n",
    "e_z = np.array([[0],[1]])\n",
    "\n",
    "i_x = np.linspace(0, N_x-1, N_x)\n",
    "i_z = np.linspace(0, N_z-1, N_z)\n",
    "\n",
    "r_i_x_z = r_0 + i_x*delta_x*e_x + i_z*delta_z*e_z\n",
    "r_i_x_grid, r_i_z_grid = np.meshgrid(r_i_x_z[0,:], r_i_x_z[1,:])\n",
    "\n",
    "r_i_x = r_i_x_grid.reshape(r_i_x_grid.shape[0]*r_i_x_grid.shape[1],1)\n",
    "r_i_z = r_i_z_grid.reshape(r_i_z_grid.shape[0]*r_i_z_grid.shape[1],1)\n",
    "r_i = np.concatenate((r_i_x, r_i_z),1).T\n",
    "\n",
    "# create transducer elements\n",
    "N_el = 32\n",
    "\n",
    "l = np.linspace(0, N_el-1, N_el)\n",
    "delta_s_x = 14*10**-3\n",
    "r_m_l = (l-((N_el-1)/2))*delta_s_x*e_x\n",
    "\n",
    "# determine propagation direction\n",
    "e_v = np.array([np.cos(77.6*np.pi/180), np.sin(77.6*np.pi/180)])\n",
    "\n",
    "# determine wavenumber\n",
    "c_ref = 1500\n",
    "T_s = 20 * (10**6)\n",
    "q_lb = 1\n",
    "q_ub = 1648\n",
    "t_lower = q_lb*T_s\n",
    "t_upper = q_ub*T_s\n",
    "l_lower = 215\n",
    "l_upper = 244\n",
    "N_f = 30\n",
    "w_l = 2*np.pi*np.linspace(l_lower,l_upper,N_f)/(t_upper-t_lower)\n",
    "\n",
    "k_0 = w_l/c_ref\n",
    "\n",
    "# determine frequency dependent complex valued amplitude? (not specified in the paper)\n",
    "A_in = k_0\n",
    "\n",
    "# define green function\n",
    "def green(r, k_0):\n",
    "    return 1j*special.hankel2(0, k_0*np.linalg.norm(r))/4\n",
    "\n",
    "# determine scattered pressure field coefficients matrix\n",
    "G = np.zeros((N_el , N_x*N_z), dtype=\"complex\")\n",
    "\n",
    "print(\"discrete frequency indexes\")\n",
    "for k in np.arange(N_f):\n",
    "    print(k)\n",
    "    for i in np.arange(N_x*N_z):\n",
    "        for ml in np.arange(N_el):\n",
    "            G[ml,i] = k_0[k]**2 * A_in[k] * np.exp(-1j*k_0[k]*(e_v.dot(r_i[:,i])))*green((r_m_l[:,ml]-r_i[:,i]), k_0[k])        \n",
    "    if k == 0:\n",
    "        G_all = G\n",
    "    else:\n",
    "        G_all = np.concatenate((G_all, G), axis=0)"
   ]
  },
  {
   "cell_type": "code",
   "execution_count": 2,
   "id": "6731e02a",
   "metadata": {},
   "outputs": [],
   "source": [
    "import pylops\n",
    "\n",
    "# sparse solution with spectral projected-gradient for L1 norm\n",
    "def sparse_solution(gamma_vector, G_all):\n",
    "    G_normalized = G_all / np.linalg.norm(G_all, axis=0)\n",
    "    \n",
    "    G_op = pylops.MatrixMult(G_normalized, dtype=np.complex128)\n",
    "    y = G_op*gamma_vector\n",
    "\n",
    "    sparse_signal = pylops.optimization.sparsity.spgl1(G_op, y, verbosity=1)[0]\n",
    "    \n",
    "    return sparse_signal"
   ]
  },
  {
   "cell_type": "code",
   "execution_count": 3,
   "id": "0d68ac1b",
   "metadata": {},
   "outputs": [
    {
     "name": "stdout",
     "output_type": "stream",
     "text": [
      "\n",
      "================================================================================\n",
      "SPGL1\n",
      "================================================================================\n",
      "No. rows              :      960     \n",
      "No. columns           :     4096\n",
      "\n",
      "Initial tau           : 0.00e+00     \n",
      "Two-norm of b         : 3.00e-01\n",
      "\n",
      "Optimality tol        : 1.00e-04     \n",
      "Target objective      : 0.00e+00\n",
      "\n",
      "Basis pursuit tol     : 1.00e-06     \n",
      "Maximum iterations    :     9600\n",
      "\n",
      "\n",
      "EXIT -- Found a root\n",
      "\n",
      "Products with A     :       9        Total time   (secs) :     0.0\n",
      "Products with A^H   :       4        Project time (secs) :     0.0\n",
      "Newton iterations   :       1        Mat-vec time (secs) :     0.0\n",
      "Line search its     :       5        Subspace iterations :       0\n"
     ]
    },
    {
     "name": "stderr",
     "output_type": "stream",
     "text": [
      "C:\\Users\\Cakiroglu\\AppData\\Local\\Programs\\Python\\Python310\\lib\\site-packages\\spgl1\\spgl1.py:204: ComplexWarning: Casting complex values to real discards the imaginary part\n",
      "  x *= s.astype(x.dtype)\n"
     ]
    },
    {
     "data": {
      "text/plain": [
       "Text(0.5, 1.0, 'Heat_Map')"
      ]
     },
     "execution_count": 3,
     "metadata": {},
     "output_type": "execute_result"
    },
    {
     "data": {
      "image/png": "[encoded data removed]",
      "text/plain": [
       "<Figure size 540x360 with 2 Axes>"
      ]
     },
     "metadata": {
      "needs_background": "light"
     },
     "output_type": "display_data"
    }
   ],
   "source": [
    "import matplotlib.pyplot as plt\n",
    "\n",
    "# create compressibility fluctuations (one sparse element)\n",
    "gamma_vector = np.zeros(G_all.shape[1])\n",
    "gamma_vector[np.array([1800])] = 0.3\n",
    "\n",
    "sparse_signal = sparse_solution(gamma_vector, G_all)\n",
    "sparse_signal = sparse_signal.reshape(N_x,N_z)\n",
    "\n",
    "sx = np.linspace(0, N_x-1, N_x)\n",
    "sy = np.linspace(0, N_z-1, N_z)\n",
    "\n",
    "# plot the figures\n",
    "fig = plt.figure(figsize = (7.5,5))\n",
    "fig.subplots_adjust(wspace=0.3)\n",
    "plt.pcolormesh(sx, sy, np.real(sparse_signal), cmap=plt.cm.get_cmap('Blues'))\n",
    "plt.colorbar()\n",
    "plt.axis([0, N_x-1, 0, N_z-1])\n",
    "plt.title('Heat_Map')"
   ]
  },
  {
   "cell_type": "code",
   "execution_count": 4,
   "id": "543fed78",
   "metadata": {},
   "outputs": [
    {
     "name": "stdout",
     "output_type": "stream",
     "text": [
      "\n",
      "================================================================================\n",
      "SPGL1\n",
      "================================================================================\n",
      "No. rows              :      960     \n",
      "No. columns           :     4096\n",
      "\n",
      "Initial tau           : 0.00e+00     \n",
      "Two-norm of b         : 6.00e-01\n",
      "\n",
      "Optimality tol        : 1.00e-04     \n",
      "Target objective      : 0.00e+00\n",
      "\n",
      "Basis pursuit tol     : 1.00e-06     \n",
      "Maximum iterations    :     9600\n",
      "\n"
     ]
    },
    {
     "name": "stderr",
     "output_type": "stream",
     "text": [
      "WARNING: Linesearch failed with error 1. Damping max BB scaling to 10000.0\n",
      "WARNING: Linesearch failed with error 1. Damping max BB scaling to 1000.0\n",
      "WARNING: Linesearch failed with error 1. Damping max BB scaling to 100.0\n",
      "WARNING: Linesearch failed with error 1. Damping max BB scaling to 10.0\n",
      "WARNING: Linesearch failed with error 1. Damping max BB scaling to 1.0\n",
      "WARNING: Linesearch failed with error 1. Damping max BB scaling to 0.1\n"
     ]
    },
    {
     "name": "stdout",
     "output_type": "stream",
     "text": [
      "\n",
      "ERROR EXIT -- Too many iterations\n",
      "\n",
      "Products with A     :   22242        Total time   (secs) :   103.2\n",
      "Products with A^H   :    9595        Project time (secs) :     3.1\n",
      "Newton iterations   :    3137        Mat-vec time (secs) :    93.0\n",
      "Line search its     :   12635        Subspace iterations :       0\n"
     ]
    },
    {
     "data": {
      "text/plain": [
       "Text(0.5, 1.0, 'Heat_Map')"
      ]
     },
     "execution_count": 4,
     "metadata": {},
     "output_type": "execute_result"
    },
    {
     "data": {
      "image/png": "[encoded data removed]",
      "text/plain": [
       "<Figure size 540x360 with 2 Axes>"
      ]
     },
     "metadata": {
      "needs_background": "light"
     },
     "output_type": "display_data"
    }
   ],
   "source": [
    "# create compressibility fluctuations (two sparse elements)\n",
    "\n",
    "gamma_vector = np.zeros(G_all.shape[1])\n",
    "gamma_vector[np.array([1800, 400])] = 0.3\n",
    "\n",
    "sparse_signal = sparse_solution(gamma_vector, G_all)\n",
    "sparse_signal = sparse_signal.reshape(N_x,N_z)\n",
    "\n",
    "# plot the figures\n",
    "fig = plt.figure(figsize = (7.5,5))\n",
    "fig.subplots_adjust(wspace=0.3)\n",
    "plt.pcolormesh(sx, sy, np.real(sparse_signal), cmap=plt.cm.get_cmap('Blues'))\n",
    "plt.colorbar()\n",
    "plt.axis([0, N_x-1, 0, N_z-1])\n",
    "plt.title('Heat_Map')"
   ]
  },
  {
   "cell_type": "code",
   "execution_count": null,
   "id": "02b1f152",
   "metadata": {},
   "outputs": [],
   "source": []
  }
 ],
 "metadata": {
  "kernelspec": {
   "display_name": "Python 3 (ipykernel)",
   "language": "python",
   "name": "python3"
  },
  "language_info": {
   "codemirror_mode": {
    "name": "ipython",
    "version": 3
   },
   "file_extension": ".py",
   "mimetype": "text/x-python",
   "name": "python",
   "nbconvert_exporter": "python",
   "pygments_lexer": "ipython3",
   "version": "3.10.4"
  }
 },
 "nbformat": 4,
 "nbformat_minor": 5
}
